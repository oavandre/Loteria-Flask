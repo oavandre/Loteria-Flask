{
 "cells": [
  {
   "cell_type": "code",
   "execution_count": 3,
   "metadata": {
    "tags": []
   },
   "outputs": [],
   "source": [
    "import pandas              as pd\n",
    "import pickle\n",
    "# load and evaluate a saved model\n",
    "\n",
    "from numpy import loadtxt\n",
    "from keras.models import load_model\n",
    " \n",
    "# load model\n",
    "#modelo = load_model('model_mega')\n",
    "modelo = pickle.load(open('model_mega2.pkl','rb'))\n",
    "# summarize model.\n",
    "#modelo.predict()\n",
    "# load dataset"
   ]
  },
  {
   "cell_type": "code",
   "execution_count": 4,
   "metadata": {},
   "outputs": [
    {
     "data": {
      "text/html": [
       "<div>\n",
       "<style scoped>\n",
       "    .dataframe tbody tr th:only-of-type {\n",
       "        vertical-align: middle;\n",
       "    }\n",
       "\n",
       "    .dataframe tbody tr th {\n",
       "        vertical-align: top;\n",
       "    }\n",
       "\n",
       "    .dataframe thead th {\n",
       "        text-align: right;\n",
       "    }\n",
       "</style>\n",
       "<table border=\"1\" class=\"dataframe\">\n",
       "  <thead>\n",
       "    <tr style=\"text-align: right;\">\n",
       "      <th></th>\n",
       "      <th>0</th>\n",
       "      <th>1</th>\n",
       "      <th>2</th>\n",
       "      <th>3</th>\n",
       "      <th>4</th>\n",
       "      <th>5</th>\n",
       "    </tr>\n",
       "  </thead>\n",
       "  <tbody>\n",
       "    <tr>\n",
       "      <th>0</th>\n",
       "      <td>7</td>\n",
       "      <td>13</td>\n",
       "      <td>16</td>\n",
       "      <td>18</td>\n",
       "      <td>19</td>\n",
       "      <td>50</td>\n",
       "    </tr>\n",
       "  </tbody>\n",
       "</table>\n",
       "</div>"
      ],
      "text/plain": [
       "   0   1   2   3   4   5\n",
       "0  7  13  16  18  19  50"
      ]
     },
     "execution_count": 4,
     "metadata": {},
     "output_type": "execute_result"
    }
   ],
   "source": [
    "novos_numeros = [[7, 13, 16, 18, 19, 50]]\n",
    "\n",
    "# split into input (X) and output (Y) variables\n",
    "dados_prev = pd.DataFrame(novos_numeros)\n",
    "dados_prev"
   ]
  },
  {
   "cell_type": "code",
   "execution_count": 8,
   "metadata": {
    "tags": []
   },
   "outputs": [
    {
     "name": "stdout",
     "output_type": "stream",
     "text": [
      "Se apostarmos 1 jogo de seis dezenas, a probabilidade de ganharmos é de 1 em 50.063.860, que corresponde a 0,000002% de chance de ganhar.\n",
      "\n",
      "\n",
      "Probabilidade de ganhar:  [0.54051801] %\n"
     ]
    }
   ],
   "source": [
    "prev = modelo.predict(dados_prev)\n",
    "\n",
    "print(\"Se apostarmos 1 jogo de seis dezenas, a probabilidade de ganharmos é de 1 em 50.063.860, que corresponde a 0,000002% de chance de ganhar.\")\n",
    "print(\"\\n\")\n",
    "\n",
    "#print(\"Previsão de ganhar: \",str(prev[0][0]) , \" %\")\n",
    "print(\"Probabilidade de ganhar: \", prev, \"%\")"
   ]
  },
  {
   "cell_type": "code",
   "execution_count": null,
   "metadata": {},
   "outputs": [],
   "source": []
  }
 ],
 "metadata": {
  "kernelspec": {
   "display_name": "Python 3",
   "language": "python",
   "name": "python3"
  },
  "language_info": {
   "codemirror_mode": {
    "name": "ipython",
    "version": 3
   },
   "file_extension": ".py",
   "mimetype": "text/x-python",
   "name": "python",
   "nbconvert_exporter": "python",
   "pygments_lexer": "ipython3",
   "version": "3.7.6"
  }
 },
 "nbformat": 4,
 "nbformat_minor": 2
}
